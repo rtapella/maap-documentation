{
 "cells": [
  {
   "cell_type": "code",
   "execution_count": 34,
   "id": "5ad04272",
   "metadata": {},
   "outputs": [],
   "source": [
    "import boto3\n",
    "from datetime import datetime, timedelta\n",
    "import json\n",
    "import matplotlib.pyplot as plt\n",
    "import requests\n",
    "import time"
   ]
  },
  {
   "cell_type": "code",
   "execution_count": 5,
   "id": "bc7a35fd",
   "metadata": {},
   "outputs": [],
   "source": [
    "# NOTE: You will need to set AWS access keys for the MCP environment\n",
    "# !env\n",
    "!export AWS_REGION=us-west-2"
   ]
  },
  {
   "cell_type": "code",
   "execution_count": 37,
   "id": "da44182f",
   "metadata": {},
   "outputs": [
    {
     "name": "stdout",
     "output_type": "stream",
     "text": [
      "Waiting for query to complete ...\n",
      "Waiting for query to complete ...\n",
      "Waiting for query to complete ...\n",
      "Waiting for query to complete ...\n",
      "Waiting for query to complete ...\n",
      "Waiting for query to complete ...\n",
      "Waiting for query to complete ...\n"
     ]
    },
    {
     "ename": "ClientError",
     "evalue": "An error occurred (ExpiredTokenException) when calling the GetQueryResults operation: The security token included in the request is expired",
     "output_type": "error",
     "traceback": [
      "\u001b[0;31m---------------------------------------------------------------------------\u001b[0m",
      "\u001b[0;31mClientError\u001b[0m                               Traceback (most recent call last)",
      "\u001b[0;32m<timed exec>\u001b[0m in \u001b[0;36m<module>\u001b[0;34m\u001b[0m\n",
      "\u001b[0;32m~/miniconda3/envs/python-dataviz/lib/python3.9/site-packages/botocore/client.py\u001b[0m in \u001b[0;36m_api_call\u001b[0;34m(self, *args, **kwargs)\u001b[0m\n\u001b[1;32m    512\u001b[0m                 )\n\u001b[1;32m    513\u001b[0m             \u001b[0;31m# The \"self\" in this scope is referring to the BaseClient.\u001b[0m\u001b[0;34m\u001b[0m\u001b[0;34m\u001b[0m\u001b[0m\n\u001b[0;32m--> 514\u001b[0;31m             \u001b[0;32mreturn\u001b[0m \u001b[0mself\u001b[0m\u001b[0;34m.\u001b[0m\u001b[0m_make_api_call\u001b[0m\u001b[0;34m(\u001b[0m\u001b[0moperation_name\u001b[0m\u001b[0;34m,\u001b[0m \u001b[0mkwargs\u001b[0m\u001b[0;34m)\u001b[0m\u001b[0;34m\u001b[0m\u001b[0;34m\u001b[0m\u001b[0m\n\u001b[0m\u001b[1;32m    515\u001b[0m \u001b[0;34m\u001b[0m\u001b[0m\n\u001b[1;32m    516\u001b[0m         \u001b[0m_api_call\u001b[0m\u001b[0;34m.\u001b[0m\u001b[0m__name__\u001b[0m \u001b[0;34m=\u001b[0m \u001b[0mstr\u001b[0m\u001b[0;34m(\u001b[0m\u001b[0mpy_operation_name\u001b[0m\u001b[0;34m)\u001b[0m\u001b[0;34m\u001b[0m\u001b[0;34m\u001b[0m\u001b[0m\n",
      "\u001b[0;32m~/miniconda3/envs/python-dataviz/lib/python3.9/site-packages/botocore/client.py\u001b[0m in \u001b[0;36m_make_api_call\u001b[0;34m(self, operation_name, api_params)\u001b[0m\n\u001b[1;32m    936\u001b[0m             \u001b[0merror_code\u001b[0m \u001b[0;34m=\u001b[0m \u001b[0mparsed_response\u001b[0m\u001b[0;34m.\u001b[0m\u001b[0mget\u001b[0m\u001b[0;34m(\u001b[0m\u001b[0;34m\"Error\"\u001b[0m\u001b[0;34m,\u001b[0m \u001b[0;34m{\u001b[0m\u001b[0;34m}\u001b[0m\u001b[0;34m)\u001b[0m\u001b[0;34m.\u001b[0m\u001b[0mget\u001b[0m\u001b[0;34m(\u001b[0m\u001b[0;34m\"Code\"\u001b[0m\u001b[0;34m)\u001b[0m\u001b[0;34m\u001b[0m\u001b[0;34m\u001b[0m\u001b[0m\n\u001b[1;32m    937\u001b[0m             \u001b[0merror_class\u001b[0m \u001b[0;34m=\u001b[0m \u001b[0mself\u001b[0m\u001b[0;34m.\u001b[0m\u001b[0mexceptions\u001b[0m\u001b[0;34m.\u001b[0m\u001b[0mfrom_code\u001b[0m\u001b[0;34m(\u001b[0m\u001b[0merror_code\u001b[0m\u001b[0;34m)\u001b[0m\u001b[0;34m\u001b[0m\u001b[0;34m\u001b[0m\u001b[0m\n\u001b[0;32m--> 938\u001b[0;31m             \u001b[0;32mraise\u001b[0m \u001b[0merror_class\u001b[0m\u001b[0;34m(\u001b[0m\u001b[0mparsed_response\u001b[0m\u001b[0;34m,\u001b[0m \u001b[0moperation_name\u001b[0m\u001b[0;34m)\u001b[0m\u001b[0;34m\u001b[0m\u001b[0;34m\u001b[0m\u001b[0m\n\u001b[0m\u001b[1;32m    939\u001b[0m         \u001b[0;32melse\u001b[0m\u001b[0;34m:\u001b[0m\u001b[0;34m\u001b[0m\u001b[0;34m\u001b[0m\u001b[0m\n\u001b[1;32m    940\u001b[0m             \u001b[0;32mreturn\u001b[0m \u001b[0mparsed_response\u001b[0m\u001b[0;34m\u001b[0m\u001b[0;34m\u001b[0m\u001b[0m\n",
      "\u001b[0;31mClientError\u001b[0m: An error occurred (ExpiredTokenException) when calling the GetQueryResults operation: The security token included in the request is expired"
     ]
    }
   ],
   "source": [
    "%%time\n",
    "client = boto3.client('logs', region_name='us-west-2')\n",
    "\n",
    "query = \"\"\"\n",
    "fields @timestamp, @message\n",
    "| filter @message like \"cmr.search.api\"\n",
    "| parse @message /concept_id \"(?<concept_id>\\S+)\"/\n",
    "| stats count(*) as number_queries by concept_id\n",
    "| sort by number_queries desc\n",
    "\"\"\"\n",
    "\n",
    "log_group = 'cmr-search-ops'\n",
    "datetime_str = '05/18/22 00:00:00'\n",
    "starting_datetime_object = datetime.strptime(datetime_str, '%m/%d/%y %H:%M:%S')\n",
    "\n",
    "start_query_response = client.start_query(\n",
    "    logGroupName=log_group,\n",
    "    startTime=int(starting_datetime_object.timestamp()),\n",
    "    endTime=int(datetime.now().timestamp()),\n",
    "    queryString=query,\n",
    ")\n",
    "\n",
    "query_id = start_query_response['queryId']\n",
    "\n",
    "logs_response = None\n",
    "\n",
    "while logs_response == None or logs_response['status'] == 'Running':\n",
    "    print('Waiting for query to complete ...')\n",
    "    time.sleep(60)\n",
    "    logs_response = client.get_query_results(\n",
    "        queryId=query_id\n",
    "    )"
   ]
  },
  {
   "cell_type": "code",
   "execution_count": 28,
   "id": "32f84cd0",
   "metadata": {},
   "outputs": [
    {
     "data": {
      "text/plain": [
       "[{'concept_id': 'C1202028193-NASA_MAAP', 'number_queries': '540'},\n",
       " {'concept_id': 'C1201460047-NASA_MAAP', 'number_queries': '85'},\n",
       " {'number_queries': '15'},\n",
       " {'concept_id': 'C1201746153-NASA_MAAP', 'number_queries': '6'},\n",
       " {'concept_id': 'C1200110769-NASA_MAAP', 'number_queries': '5'},\n",
       " {'concept_id': 'C1200000522-NASA_MAAP', 'number_queries': '3'},\n",
       " {'concept_id': 'C1201702030-NASA_MAAP', 'number_queries': '3'},\n",
       " {'concept_id': 'C1200110729-NASA_MAAP', 'number_queries': '3'},\n",
       " {'concept_id': 'C1200110748-NASA_MAAP', 'number_queries': '2'},\n",
       " {'concept_id': 'C1201300747-NASA_MAAP', 'number_queries': '2'}]"
      ]
     },
     "execution_count": 28,
     "metadata": {},
     "output_type": "execute_result"
    }
   ],
   "source": [
    "restructured_data = []\n",
    "for result in logs_response['results']:\n",
    "    entry_data = {}\n",
    "    for entry in result:\n",
    "        entry_data[entry['field']] = entry['value']\n",
    "    restructured_data.append(entry_data)\n",
    "\n",
    "restructured_data"
   ]
  },
  {
   "cell_type": "code",
   "execution_count": 31,
   "id": "12bc939d",
   "metadata": {},
   "outputs": [],
   "source": [
    "cmr_url = 'https://cmr.maap-project.org'\n",
    "collections_search_url = f\"{cmr_url}/search/collections.json\"\n",
    "results_dict = {}\n",
    "for entry in restructured_data:\n",
    "    # There's 1 blank concept_id entry\n",
    "    if 'concept_id' in entry:\n",
    "        cmr_response = requests.get(f\"{collections_search_url}?concept_id={entry['concept_id']}\")\n",
    "        number_queries = entry['number_queries']\n",
    "        short_name = json.loads(cmr_response.text)['feed']['entry'][0]['short_name']\n",
    "        results_dict[short_name] = int(number_queries)\n",
    "    "
   ]
  },
  {
   "cell_type": "code",
   "execution_count": 32,
   "id": "8bcca790",
   "metadata": {},
   "outputs": [
    {
     "data": {
      "text/plain": [
       "{'GEDI_L4A_AGB_Density_V2_1_2056': 540,\n",
       " 'GEDI02_B': 85,\n",
       " 'ATL08': 6,\n",
       " 'Landsat8_SurfaceReflectance': 5,\n",
       " 'SRTMGL1': 3,\n",
       " 'GEDI_L3_LandSurface_Metrics_V2_1952': 3,\n",
       " 'AFLVIS2': 3,\n",
       " 'ABLVIS1B': 2,\n",
       " 'ATL03': 2}"
      ]
     },
     "execution_count": 32,
     "metadata": {},
     "output_type": "execute_result"
    }
   ],
   "source": [
    "results_dict"
   ]
  },
  {
   "cell_type": "code",
   "execution_count": 33,
   "id": "d7e68605",
   "metadata": {},
   "outputs": [
    {
     "data": {
      "image/png": "[encoded data removed]",
      "text/plain": [
       "<Figure size 432x288 with 1 Axes>"
      ]
     },
     "metadata": {
      "needs_background": "light"
     },
     "output_type": "display_data"
    }
   ],
   "source": [
    "# data set\n",
    "collections = results_dict.keys()\n",
    "number_queries = results_dict.values()\n",
    "\n",
    "plt.bar(collections, number_queries, color='y')\n",
    "plt.xticks(rotation=30, ha='right')\n",
    "plt.show()"
   ]
  }
 ],
 "metadata": {
  "kernelspec": {
   "display_name": "Python 3 (ipykernel)",
   "language": "python",
   "name": "python3"
  },
  "language_info": {
   "codemirror_mode": {
    "name": "ipython",
    "version": 3
   },
   "file_extension": ".py",
   "mimetype": "text/x-python",
   "name": "python",
   "nbconvert_exporter": "python",
   "pygments_lexer": "ipython3",
   "version": "3.9.7"
  }
 },
 "nbformat": 4,
 "nbformat_minor": 5
}
