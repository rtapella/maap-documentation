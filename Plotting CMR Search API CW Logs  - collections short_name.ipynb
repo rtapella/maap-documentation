{
 "cells": [
  {
   "cell_type": "code",
   "execution_count": 1,
   "id": "97458536",
   "metadata": {},
   "outputs": [],
   "source": [
    "import boto3\n",
    "from datetime import datetime, timedelta\n",
    "import json\n",
    "import matplotlib.pyplot as plt\n",
    "import requests\n",
    "import time"
   ]
  },
  {
   "cell_type": "code",
   "execution_count": 2,
   "id": "2566ce7b",
   "metadata": {},
   "outputs": [],
   "source": [
    "# NOTE: You will need to set AWS access keys for the MCP environment"
   ]
  },
  {
   "cell_type": "code",
   "execution_count": 2,
   "id": "eda695ce",
   "metadata": {},
   "outputs": [
    {
     "name": "stdout",
     "output_type": "stream",
     "text": [
      "\n",
      "fields @timestamp, @message\n",
      "| filter @message like \"cmr.search.api\"\n",
      "| filter @message like \"Searching for collections\"\n",
      "| filter @message like \"short_name\"\n",
      "| parse @message /:short_name \"(?<short_name>(\\w|-)+)\"/\n",
      "| stats count(*) as number_queries by short_name\n",
      "| sort by number_queries desc\n",
      "\n",
      "Waiting for query to complete ...\n",
      "Waiting for query to complete ...\n",
      "Waiting for query to complete ...\n",
      "Waiting for query to complete ...\n",
      "Waiting for query to complete ...\n",
      "Waiting for query to complete ...\n",
      "Waiting for query to complete ...\n",
      "Waiting for query to complete ...\n",
      "Waiting for query to complete ...\n",
      "Waiting for query to complete ...\n",
      "Waiting for query to complete ...\n",
      "Waiting for query to complete ...\n",
      "Waiting for query to complete ...\n",
      "Waiting for query to complete ...\n",
      "Waiting for query to complete ...\n",
      "Waiting for query to complete ...\n",
      "Waiting for query to complete ...\n",
      "Waiting for query to complete ...\n",
      "Waiting for query to complete ...\n",
      "Waiting for query to complete ...\n",
      "Waiting for query to complete ...\n",
      "Waiting for query to complete ...\n",
      "Waiting for query to complete ...\n",
      "Waiting for query to complete ...\n",
      "Waiting for query to complete ...\n",
      "Waiting for query to complete ...\n",
      "Waiting for query to complete ...\n",
      "Waiting for query to complete ...\n",
      "Waiting for query to complete ...\n",
      "Waiting for query to complete ...\n",
      "Waiting for query to complete ...\n",
      "Waiting for query to complete ...\n",
      "Waiting for query to complete ...\n",
      "Waiting for query to complete ...\n",
      "Waiting for query to complete ...\n",
      "Waiting for query to complete ...\n",
      "Waiting for query to complete ...\n",
      "Waiting for query to complete ...\n",
      "Waiting for query to complete ...\n",
      "Waiting for query to complete ...\n",
      "Waiting for query to complete ...\n",
      "Waiting for query to complete ...\n",
      "Waiting for query to complete ...\n",
      "Waiting for query to complete ...\n",
      "Waiting for query to complete ...\n",
      "Waiting for query to complete ...\n",
      "Waiting for query to complete ...\n",
      "Waiting for query to complete ...\n",
      "Waiting for query to complete ...\n",
      "Waiting for query to complete ...\n",
      "Waiting for query to complete ...\n",
      "Waiting for query to complete ...\n",
      "Waiting for query to complete ...\n",
      "CPU times: user 882 ms, sys: 99.8 ms, total: 982 ms\n",
      "Wall time: 9min 2s\n"
     ]
    }
   ],
   "source": [
    "%%time\n",
    "client = boto3.client('logs', region_name='us-west-2')\n",
    "\n",
    "concept_type = \"collections\"\n",
    "query = \"\"\"\n",
    "fields @timestamp, @message\n",
    "| filter @message like \"cmr.search.api\"\n",
    "| filter @message like \"Searching for \"\"\" + concept_type + '\"' + \"\"\"\n",
    "| filter @message like \"short_name\"\n",
    "| parse @message /:short_name \"(?<short_name>(\\w|-)+)\"/\n",
    "| stats count(*) as number_queries by short_name\n",
    "| sort by number_queries desc\n",
    "\"\"\"\n",
    "\n",
    "print(query)\n",
    "log_group = 'cmr-search-ops'\n",
    "datetime_str = '05/18/22 00:00:00'\n",
    "starting_datetime_object = datetime.strptime(datetime_str, '%m/%d/%y %H:%M:%S')\n",
    "\n",
    "start_query_response = client.start_query(\n",
    "    logGroupName=log_group,\n",
    "    startTime=int(starting_datetime_object.timestamp()),\n",
    "    endTime=int(datetime.now().timestamp()),\n",
    "    queryString=query,\n",
    ")\n",
    "\n",
    "query_id = start_query_response['queryId']\n",
    "\n",
    "logs_response = None\n",
    "\n",
    "while logs_response == None or logs_response['status'] == 'Running':\n",
    "    print('Waiting for query to complete ...')\n",
    "    time.sleep(10)\n",
    "    logs_response = client.get_query_results(\n",
    "        queryId=query_id\n",
    "    )"
   ]
  },
  {
   "cell_type": "code",
   "execution_count": 3,
   "id": "b7e90700",
   "metadata": {},
   "outputs": [],
   "source": [
    "# Save the results so we don't have to re-run the query\n",
    "filename = f\"{concept_type}_short_name_search-{query_id}.json\"\n",
    "with open(filename, \"w+\") as f:\n",
    "    f.write(json.dumps(logs_response))\n",
    "    f.close()"
   ]
  },
  {
   "cell_type": "code",
   "execution_count": 4,
   "id": "441d1d13",
   "metadata": {},
   "outputs": [
    {
     "data": {
      "text/plain": [
       "{'results': [[{'field': 'short_name', 'value': 'SRTMGL1_COD'},\n",
       "   {'field': 'number_queries', 'value': '111'}],\n",
       "  [{'field': 'short_name', 'value': 'L2_USER_DATA'},\n",
       "   {'field': 'number_queries', 'value': '27'}],\n",
       "  [{'field': 'short_name', 'value': 'AFRISAR_DLR'},\n",
       "   {'field': 'number_queries', 'value': '11'}],\n",
       "  [{'field': 'short_name', 'value': 'BIOSAR1'},\n",
       "   {'field': 'number_queries', 'value': '11'}],\n",
       "  [{'field': 'short_name', 'value': 'GEDI_L4B_Gridded_Biomass_2017'},\n",
       "   {'field': 'number_queries', 'value': '9'}],\n",
       "  [{'field': 'short_name', 'value': 'nceo_africa_2017'},\n",
       "   {'field': 'number_queries', 'value': '4'}],\n",
       "  [{'field': 'short_name', 'value': 'Polarimetric_CT_1601'},\n",
       "   {'field': 'number_queries', 'value': '4'}],\n",
       "  [{'field': 'short_name', 'value': 'GEDI02_A'},\n",
       "   {'field': 'number_queries', 'value': '3'}],\n",
       "  [{'field': 'short_name', 'value': 'GEDIL4B'},\n",
       "   {'field': 'number_queries', 'value': '2'}],\n",
       "  [{'field': 'short_name', 'value': 'GEDI01_B'},\n",
       "   {'field': 'number_queries', 'value': '2'}],\n",
       "  [{'field': 'short_name', 'value': 'PoLInSAR_Canopy_Height_1589'},\n",
       "   {'field': 'number_queries', 'value': '2'}],\n",
       "  [{'field': 'short_name', 'value': 'AFLVIS2'},\n",
       "   {'field': 'number_queries', 'value': '1'}],\n",
       "  [{'field': 'short_name', 'value': 'ATL08'},\n",
       "   {'field': 'number_queries', 'value': '1'}]],\n",
       " 'statistics': {'recordsMatched': 188.0,\n",
       "  'recordsScanned': 13099710.0,\n",
       "  'bytesScanned': 3411403915.0},\n",
       " 'status': 'Complete',\n",
       " 'ResponseMetadata': {'RequestId': '1384ecd7-583a-43fe-9619-a552f97da5f8',\n",
       "  'HTTPStatusCode': 200,\n",
       "  'HTTPHeaders': {'x-amzn-requestid': '1384ecd7-583a-43fe-9619-a552f97da5f8',\n",
       "   'content-type': 'application/x-amz-json-1.1',\n",
       "   'content-length': '1276',\n",
       "   'date': 'Wed, 19 Oct 2022 21:09:18 GMT'},\n",
       "  'RetryAttempts': 0}}"
      ]
     },
     "execution_count": 4,
     "metadata": {},
     "output_type": "execute_result"
    }
   ],
   "source": [
    "data = json.loads(open(filename).read())\n",
    "data"
   ]
  },
  {
   "cell_type": "code",
   "execution_count": 5,
   "id": "dd811168",
   "metadata": {},
   "outputs": [
    {
     "data": {
      "text/plain": [
       "[{'short_name': 'SRTMGL1_COD', 'number_queries': '111'},\n",
       " {'short_name': 'L2_USER_DATA', 'number_queries': '27'},\n",
       " {'short_name': 'AFRISAR_DLR', 'number_queries': '11'},\n",
       " {'short_name': 'BIOSAR1', 'number_queries': '11'},\n",
       " {'short_name': 'GEDI_L4B_Gridded_Biomass_2017', 'number_queries': '9'},\n",
       " {'short_name': 'nceo_africa_2017', 'number_queries': '4'},\n",
       " {'short_name': 'Polarimetric_CT_1601', 'number_queries': '4'},\n",
       " {'short_name': 'GEDI02_A', 'number_queries': '3'},\n",
       " {'short_name': 'GEDIL4B', 'number_queries': '2'},\n",
       " {'short_name': 'GEDI01_B', 'number_queries': '2'},\n",
       " {'short_name': 'PoLInSAR_Canopy_Height_1589', 'number_queries': '2'},\n",
       " {'short_name': 'AFLVIS2', 'number_queries': '1'},\n",
       " {'short_name': 'ATL08', 'number_queries': '1'}]"
      ]
     },
     "execution_count": 5,
     "metadata": {},
     "output_type": "execute_result"
    }
   ],
   "source": [
    "restructured_data = []\n",
    "for result in logs_response['results']:\n",
    "    entry_data = {}\n",
    "    for entry in result:\n",
    "        entry_data[entry['field']] = entry['value']\n",
    "    restructured_data.append(entry_data)\n",
    "\n",
    "restructured_data"
   ]
  },
  {
   "cell_type": "code",
   "execution_count": 6,
   "id": "ebdb3529",
   "metadata": {},
   "outputs": [],
   "source": [
    "count_data = {}\n",
    "\n",
    "for result in restructured_data:\n",
    "    if 'short_name' in result:\n",
    "        count_data[result['short_name']] = int(result['number_queries'])\n",
    "\n",
    "count_data = {k: v for k, v in sorted(count_data.items(), key=lambda item: item[1], reverse=True)}"
   ]
  },
  {
   "cell_type": "code",
   "execution_count": 9,
   "id": "69e11b0a",
   "metadata": {},
   "outputs": [
    {
     "data": {
      "image/png": "[encoded data removed]",
      "text/plain": [
       "<Figure size 864x384 with 1 Axes>"
      ]
     },
     "metadata": {
      "needs_background": "light"
     },
     "output_type": "display_data"
    }
   ],
   "source": [
    "# data set\n",
    "short_names = list(count_data.keys())\n",
    "number_queries = list(count_data.values())\n",
    "\n",
    "plt.figure(figsize=(9, 4), dpi=96)\n",
    "\n",
    "def addlabels(x,y):\n",
    "    for i in range(len(x)):\n",
    "        plt.text(i, y[i], y[i], ha = 'center', va= 'bottom')\n",
    "\n",
    "plt.bar(short_names, number_queries, color='y')\n",
    "addlabels(short_names, number_queries)\n",
    "plt.xticks(rotation=30, ha='right')\n",
    "plt.show()"
   ]
  }
 ],
 "metadata": {
  "kernelspec": {
   "display_name": "Python 3 (ipykernel)",
   "language": "python",
   "name": "python3"
  },
  "language_info": {
   "codemirror_mode": {
    "name": "ipython",
    "version": 3
   },
   "file_extension": ".py",
   "mimetype": "text/x-python",
   "name": "python",
   "nbconvert_exporter": "python",
   "pygments_lexer": "ipython3",
   "version": "3.9.7"
  }
 },
 "nbformat": 4,
 "nbformat_minor": 5
}
