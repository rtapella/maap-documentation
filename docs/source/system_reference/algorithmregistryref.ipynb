{
 "cells": [
  {
   "attachments": {},
   "cell_type": "markdown",
   "metadata": {},
   "source": [
    "## Algorithm Registry\n",
    "\n",
    "https://mas.ops.maap-project.org/ \n"
   ]
  },
  {
   "attachments": {},
   "cell_type": "markdown",
   "metadata": {},
   "source": [
    "### Finding and Listing Algorithms\n",
    "\n",
    "https://docs.maap-project.org/en/develop/faq/view_registered_algorithms.html "
   ]
  },
  {
   "attachments": {},
   "cell_type": "markdown",
   "metadata": {},
   "source": [
    "### Getting Algorithm Details [tod]\n",
    "\n"
   ]
  },
  {
   "attachments": {},
   "cell_type": "markdown",
   "metadata": {},
   "source": [
    "### Registering Algorithms\n",
    "\n",
    "- https://docs.maap-project.org/en/develop/faq/register_algorithm_to_mas.html \n",
    "- https://docs.google.com/document/d/1YSE0PcZV7N7VwCEMcay0HYxsqauqsa9Zl-DiBq-d2mA/edit#heading=h.es97ig6ghuad "
   ]
  },
  {
   "attachments": {},
   "cell_type": "markdown",
   "metadata": {},
   "source": [
    "### Deleting Algorithms from MAS\n",
    "\n",
    "- https://docs.maap-project.org/en/develop/faq/delete_algorithm_from_mas.html "
   ]
  }
 ],
 "metadata": {
  "kernelspec": {
   "display_name": "Python 3",
   "language": "python",
   "name": "python3"
  },
  "language_info": {
   "codemirror_mode": {
    "name": "ipython",
    "version": 3
   },
   "file_extension": ".py",
   "mimetype": "text/x-python",
   "name": "python",
   "nbconvert_exporter": "python",
   "pygments_lexer": "ipython3",
   "version": "3.7.8"
  }
 },
 "nbformat": 4,
 "nbformat_minor": 4
}
