{
 "cells": [
  {
   "attachments": {},
   "cell_type": "markdown",
   "metadata": {},
   "source": [
    "## Algorithm Development Environment (ADE)\n",
    "\n"
   ]
  },
  {
   "attachments": {},
   "cell_type": "markdown",
   "metadata": {},
   "source": [
    "### Workspaces and Jupyter"
   ]
  },
  {
   "attachments": {},
   "cell_type": "markdown",
   "metadata": {},
   "source": [
    "#### Creating Projects\n",
    "\n",
    "add_project.ipynb\n",
    "\n",
    "- https://docs.maap-project.org/en/develop/platform_technical_documentation/add_project.html \n",
    "- https://docs.maap-project.org/en/develop/platform_technical_documentation/create_project.html "
   ]
  },
  {
   "attachments": {},
   "cell_type": "markdown",
   "metadata": {},
   "source": [
    "#### Creating workspaces\n",
    "\n",
    "- https://docs.maap-project.org/en/develop/platform_technical_documentation/create_workspace.html "
   ]
  },
  {
   "attachments": {},
   "cell_type": "markdown",
   "metadata": {},
   "source": [
    "#### Stack options [todo]"
   ]
  },
  {
   "attachments": {},
   "cell_type": "markdown",
   "metadata": {},
   "source": [
    "#### Configuring workspaces [todo]"
   ]
  },
  {
   "attachments": {},
   "cell_type": "markdown",
   "metadata": {},
   "source": [
    "##### Renaming Workspaces\n",
    "- https://docs.maap-project.org/en/develop/faq/rename_workspace.html \n"
   ]
  },
  {
   "attachments": {},
   "cell_type": "markdown",
   "metadata": {},
   "source": [
    "##### Adjusting the memory and disk of a workspace"
   ]
  },
  {
   "attachments": {},
   "cell_type": "markdown",
   "metadata": {},
   "source": [
    "##### Using conda and creating environments\n",
    "\n",
    "- https://docs.google.com/document/d/1YSE0PcZV7N7VwCEMcay0HYxsqauqsa9Zl-DiBq-d2mA/edit#heading=h.es97ig6ghuad "
   ]
  },
  {
   "attachments": {},
   "cell_type": "markdown",
   "metadata": {},
   "source": [
    "##### MAAP storage options\n",
    "\n",
    "- https://docs.google.com/document/d/1YSE0PcZV7N7VwCEMcay0HYxsqauqsa9Zl-DiBq-d2mA/edit#heading=h.es97ig6ghuad "
   ]
  },
  {
   "attachments": {},
   "cell_type": "markdown",
   "metadata": {},
   "source": [
    "#### Files in your workspace\n",
    "\n",
    "- https://docs.maap-project.org/en/develop/faq/persistent_files.html "
   ]
  },
  {
   "attachments": {},
   "cell_type": "markdown",
   "metadata": {},
   "source": [
    "#### Jupyter menus [Grace built-in tutorial?]"
   ]
  },
  {
   "attachments": {},
   "cell_type": "markdown",
   "metadata": {},
   "source": [
    "#### Using GitHub with Jupyter\n",
    "\n",
    "- GitHub repos https://docs.maap-project.org/en/develop/intro/git_clone_repo.html \n",
    "- https://github.com/jupyterlab/jupyterlab-git "
   ]
  },
  {
   "attachments": {},
   "cell_type": "markdown",
   "metadata": {},
   "source": [
    "### Projects\n",
    "\n",
    "- Link to: Workspaces and Jupyter: Creating Projects\n",
    "- Updating projects from workspaces https://docs.maap-project.org/en/develop/platform_technical_documentation/update_project.html \n"
   ]
  },
  {
   "attachments": {},
   "cell_type": "markdown",
   "metadata": {},
   "source": [
    "### EarthData search API [todo]"
   ]
  },
  {
   "attachments": {},
   "cell_type": "markdown",
   "metadata": {},
   "source": [
    "### CMC mapping [todo]\n",
    "\n",
    "Or other mapping UI for Jupyter etc."
   ]
  },
  {
   "attachments": {},
   "cell_type": "markdown",
   "metadata": {},
   "source": [
    "### Jupyter Magics\n",
    "\n",
    "- https://docs.maap-project.org/en/develop/platform_technical_documentation/inline_magics.html "
   ]
  },
  {
   "attachments": {},
   "cell_type": "markdown",
   "metadata": {},
   "source": [
    "### Link to: Collaboration (Tutorials > Collaboration)"
   ]
  },
  {
   "attachments": {},
   "cell_type": "markdown",
   "metadata": {},
   "source": [
    "### Sharing data\n",
    "\n",
    "- https://docs.maap-project.org/en/develop/platform_technical_documentation/share_data.html "
   ]
  },
  {
   "attachments": {},
   "cell_type": "markdown",
   "metadata": {},
   "source": [
    "### SSH\n",
    "\n",
    "- https://docs.maap-project.org/en/develop/intro/getting_started.html#Uploading-your-public-SSH-key\n",
    "- https://docs.maap-project.org/en/develop/platform_technical_documentation/ssh.html "
   ]
  },
  {
   "attachments": {},
   "cell_type": "markdown",
   "metadata": {},
   "source": [
    "### Link to: Reigstering algorithms"
   ]
  },
  {
   "attachments": {},
   "cell_type": "markdown",
   "metadata": {},
   "source": [
    "### Link to maap.py"
   ]
  }
 ],
 "metadata": {
  "kernelspec": {
   "display_name": "Python 3",
   "language": "python",
   "name": "python3"
  },
  "language_info": {
   "codemirror_mode": {
    "name": "ipython",
    "version": 3
   },
   "file_extension": ".py",
   "mimetype": "text/x-python",
   "name": "python",
   "nbconvert_exporter": "python",
   "pygments_lexer": "ipython3",
   "version": "3.7.8"
  }
 },
 "nbformat": 4,
 "nbformat_minor": 4
}
