{
 "cells": [
  {
   "cell_type": "markdown",
   "id": "12d98e2d",
   "metadata": {},
   "source": [
    "# Trigger Ingest via Cumulus\n",
    "\n",
    "The following code demonstrates how to create a token for calling the Cumulus API /rules endpoint.\n",
    "\n",
    "The Cumulus Rules API is used to trigger workflows defined as part of an existing Cumulus deployment.\n",
    "\n",
    "This assumes the collection has already been published to Cumulus and CMR."
   ]
  },
  {
   "cell_type": "code",
   "execution_count": 1,
   "id": "469b065c",
   "metadata": {},
   "outputs": [],
   "source": [
    "import datetime\n",
    "import json\n",
    "import requests"
   ]
  },
  {
   "cell_type": "markdown",
   "id": "669f97e6",
   "metadata": {},
   "source": [
    "#### 1. Define some parameters and functions for calling the Cumulus API"
   ]
  },
  {
   "cell_type": "code",
   "execution_count": 9,
   "id": "42ea4d23",
   "metadata": {},
   "outputs": [],
   "source": [
    "# Root Cumulus API and the other routes we will need to use\n",
    "cumulus_rest_api = 'https://vpnm371s8e.execute-api.us-west-2.amazonaws.com/dev'\n",
    "authorize_url = f\"{cumulus_rest_api}/token\"\n",
    "ingest_url = f\"{cumulus_rest_api}/rules\"\n",
    "\n",
    "# Collection and provider-specific parameters\n",
    "collection_name = 'dit_testing'\n",
    "collection_version = '001'\n",
    "provider = 'maap-dit-workspace'\n",
    "\n",
    "# Login credentials for calling the Cumulus API\n",
    "# Note: this requires these users exist in the Cumulus Users table\n",
    "earthdata_username = 'aimeeb'\n",
    "earthdata_password = 'ADD ME'"
   ]
  },
  {
   "cell_type": "code",
   "execution_count": 3,
   "id": "9c8d2d59",
   "metadata": {},
   "outputs": [],
   "source": [
    "def get_redirect_url():\n",
    "    response = requests.get(authorize_url, allow_redirects=False)\n",
    "    return response.headers['location']"
   ]
  },
  {
   "cell_type": "code",
   "execution_count": 4,
   "id": "693d461d",
   "metadata": {},
   "outputs": [],
   "source": [
    "def generate_user_token():\n",
    "    session = requests.Session()\n",
    "    session.auth = (earthdata_username, earthdata_password)\n",
    "    tokens_url = get_redirect_url()\n",
    "    auth_resp = session.get(\n",
    "        tokens_url,\n",
    "        headers={\n",
    "            \"Accept\": \"application/json\",\n",
    "        },\n",
    "        timeout=10,\n",
    "    )\n",
    "    return auth_resp"
   ]
  },
  {
   "cell_type": "markdown",
   "id": "313db530",
   "metadata": {},
   "source": [
    "#### 2. Generate the token"
   ]
  },
  {
   "cell_type": "code",
   "execution_count": 5,
   "id": "3d45b981",
   "metadata": {},
   "outputs": [],
   "source": [
    "# Generate the token and headers\n",
    "token_response = generate_user_token()\n",
    "token = token_response.json()['message']['token']\n",
    "\n",
    "headers = {\n",
    "  'Content-Type': 'application/json',\n",
    "  'Authorization': f\"Bearer {token}\"\n",
    "}"
   ]
  },
  {
   "cell_type": "markdown",
   "id": "4d88744a",
   "metadata": {},
   "source": [
    "#### 3. Generate the rules API POST body"
   ]
  },
  {
   "cell_type": "code",
   "execution_count": 6,
   "id": "6b0007f7",
   "metadata": {},
   "outputs": [
    {
     "data": {
      "text/plain": [
       "{'workflow': 'DiscoverAndQueueGranulesWorkflow',\n",
       " 'collection': {'name': 'dit_testing', 'version': '001'},\n",
       " 'provider': 'maap-dit-workspace',\n",
       " 'name': 'ade___dit_testing_1664211835',\n",
       " 'rule': {'type': 'onetime', 'value': ''},\n",
       " 'meta': {},\n",
       " 'state': 'ENABLED'}"
      ]
     },
     "execution_count": 6,
     "metadata": {},
     "output_type": "execute_result"
    }
   ],
   "source": [
    "d = int(datetime.datetime.now().timestamp())\n",
    "body = {\n",
    "  'workflow': 'DiscoverAndQueueGranulesWorkflow',\n",
    "  'collection': {\n",
    "    'name': collection_name,\n",
    "    'version': collection_version\n",
    "  },\n",
    "  'provider': provider,\n",
    "  'name': f\"ade___{collection_name}_{d}\",\n",
    "  'rule': {\n",
    "    'type': 'onetime',\n",
    "    'value': ''\n",
    "  },\n",
    "  'meta': {},\n",
    "  'state': 'ENABLED'\n",
    "}\n",
    "body"
   ]
  },
  {
   "cell_type": "markdown",
   "id": "6e7cb0d5",
   "metadata": {},
   "source": [
    "#### 4. Call and inspect the response"
   ]
  },
  {
   "cell_type": "code",
   "execution_count": 8,
   "id": "4fbd10d5",
   "metadata": {},
   "outputs": [
    {
     "name": "stdout",
     "output_type": "stream",
     "text": [
      "Received response: 200: b'{\"message\":\"Record saved\",\"record\":{\"createdAt\":1664211871945,\"updatedAt\":1664211871945,\"workflow\":\"DiscoverAndQueueGranulesWorkflow\",\"collection\":{\"name\":\"dit_testing\",\"version\":\"001\"},\"provider\":\"maap-dit-workspace\",\"name\":\"ade___dit_testing_1664211835\",\"rule\":{\"type\":\"onetime\",\"value\":\"\"},\"meta\":{},\"state\":\"ENABLED\"}}'\n"
     ]
    }
   ],
   "source": [
    "response = requests.post(ingest_url, data = json.dumps(body), headers = headers)\n",
    "print(f\"Received response: {response.status_code}: {response.content}\")"
   ]
  }
 ],
 "metadata": {
  "kernelspec": {
   "display_name": "Python 3 (ipykernel)",
   "language": "python",
   "name": "python3"
  },
  "language_info": {
   "codemirror_mode": {
    "name": "ipython",
    "version": 3
   },
   "file_extension": ".py",
   "mimetype": "text/x-python",
   "name": "python",
   "nbconvert_exporter": "python",
   "pygments_lexer": "ipython3",
   "version": "3.7.8"
  }
 },
 "nbformat": 4,
 "nbformat_minor": 5
}
