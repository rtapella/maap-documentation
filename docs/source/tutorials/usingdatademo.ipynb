{
 "cells": [
  {
   "attachments": {},
   "cell_type": "markdown",
   "metadata": {},
   "source": [
    "## Using Data (CMR, STAC, etc.)\n",
    "\n",
    "Demos to show how data is accessed via API, CLI or GUI."
   ]
  },
  {
   "attachments": {},
   "cell_type": "markdown",
   "metadata": {},
   "source": [
    "### Jupyter: EarthData map search\n",
    "\n",
    "- https://docs.maap-project.org/en/develop/search/searching_edsc_gui.html \n",
    "- https://docs.maap-project.org/en/develop/faq/copy_earthdata.html  \n",
    "- https://docs.maap-project.org/en/develop/faq/import_granules.html "
   ]
  },
  {
   "cell_type": "markdown",
   "metadata": {},
   "source": [
    "### Jupyter: maap.py API search\n",
    "\n",
    "https://docs.maap-project.org/en/develop/query/query_data_python.html "
   ]
  },
  {
   "cell_type": "markdown",
   "metadata": {},
   "source": [
    "#### MAAP.py API\n",
    "\n",
    "https://docs.maap-project.org/en/develop/query/query_data_python.html "
   ]
  },
  {
   "cell_type": "markdown",
   "metadata": {},
   "source": [
    "#### Collections\n",
    "\n",
    "https://docs.maap-project.org/en/develop/search/collections.html "
   ]
  },
  {
   "cell_type": "markdown",
   "metadata": {},
   "source": [
    "#### Granules\n",
    "\n",
    "https://docs.maap-project.org/en/develop/search/granules.html \n",
    "\n",
    "- Compiling granulte IDs for batch processing\n",
    "https://docs.maap-project.org/en/develop/search/searching_compiling_list_of_granule_ids.html \n"
   ]
  },
  {
   "attachments": {},
   "cell_type": "markdown",
   "metadata": {},
   "source": [
    "### CMR Collections in MAAP\n",
    "\n",
    "- https://docs.maap-project.org/en/develop/search/cmr_collection_table.html \n",
    "- https://docs.maap-project.org/en/develop/search/deprecated_collection_table.html "
   ]
  },
  {
   "attachments": {},
   "cell_type": "markdown",
   "metadata": {},
   "source": [
    "### Accessing Data\n",
    "\n",
    "https://docs.maap-project.org/en/develop/accessing.html \n",
    "\n",
    "- Entire tree under the Accessing Data section of Read the Docs\n",
    "\n"
   ]
  },
  {
   "attachments": {},
   "cell_type": "markdown",
   "metadata": {},
   "source": [
    "### Jupyter: Visualizing Data on a Map\n",
    "\n",
    "- WMTS https://docs.maap-project.org/en/develop/visualization/using_pycmc.html \n",
    "- Mosaic JSON / STAC https://docs.maap-project.org/en/develop/visualization/srtm-stac-mosaic.html \n",
    "- Folium [gap]\n",
    "- CMC [gap]"
   ]
  },
  {
   "cell_type": "markdown",
   "metadata": {},
   "source": []
  }
 ],
 "metadata": {
  "kernelspec": {
   "display_name": "Python [conda env:root] *",
   "language": "python",
   "name": "conda-root-py"
  },
  "language_info": {
   "codemirror_mode": {
    "name": "ipython",
    "version": 3
   },
   "file_extension": ".py",
   "mimetype": "text/x-python",
   "name": "python",
   "nbconvert_exporter": "python",
   "pygments_lexer": "ipython3",
   "version": "3.7.8"
  },
  "metadata": {
   "interpreter": {
    "hash": "31f2aee4e71d21fbe5cf8b01ff0e069b9275f58929596ceb00d14d90e3e16cd6"
   }
  }
 },
 "nbformat": 4,
 "nbformat_minor": 4
}
