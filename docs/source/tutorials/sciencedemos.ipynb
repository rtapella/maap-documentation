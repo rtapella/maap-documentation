{
 "cells": [
  {
   "attachments": {},
   "cell_type": "markdown",
   "metadata": {},
   "source": [
    "## Science Demos [Sumant]\n",
    "\n",
    "  - tutorials/HLS/HLS_search.ipynb\n",
    "  - tutorials/GEDI/GEDI02_B_tutorial.ipynb\n",
    "  - tutorials/GEDI/SearchGEDI.ipynb\n",
    "  - tutorials/GEDI/GEDI_L4A_Example.ipynb "
   ]
  },
  {
   "attachments": {},
   "cell_type": "markdown",
   "metadata": {},
   "source": [
    "### GEDI\n",
    "\n",
    "  - GEDI/GEDI02_B_tutorial.ipynb\n",
    "  - GEDI/SearchGEDI.ipynb\n",
    "  - GEDI/GEDI_L4A_Example.ipynb "
   ]
  },
  {
   "attachments": {},
   "cell_type": "markdown",
   "metadata": {},
   "source": [
    "### Entwine point tiles example of query and visualize\n",
    "\n",
    "- https://docs.maap-project.org/en/develop/query/ept_stores.html \n"
   ]
  },
  {
   "attachments": {},
   "cell_type": "markdown",
   "metadata": {},
   "source": [
    "### NISAR\n",
    "\n"
   ]
  },
  {
   "attachments": {},
   "cell_type": "markdown",
   "metadata": {},
   "source": [
    "### HLS Search and Composite\n",
    "\n",
    "- tutorials/HLS/HLS_search.ipynb"
   ]
  }
 ],
 "metadata": {
  "kernelspec": {
   "display_name": "Python [conda env:root] *",
   "language": "python",
   "name": "conda-root-py"
  },
  "language_info": {
   "codemirror_mode": {
    "name": "ipython",
    "version": 3
   },
   "file_extension": ".py",
   "mimetype": "text/x-python",
   "name": "python",
   "nbconvert_exporter": "python",
   "pygments_lexer": "ipython3",
   "version": "3.7.8"
  },
  "metadata": {
   "interpreter": {
    "hash": "31f2aee4e71d21fbe5cf8b01ff0e069b9275f58929596ceb00d14d90e3e16cd6"
   }
  }
 },
 "nbformat": 4,
 "nbformat_minor": 4
}
